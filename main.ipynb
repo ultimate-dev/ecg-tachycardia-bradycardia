{
 "cells": [
  {
   "cell_type": "markdown",
   "metadata": {},
   "source": [
    "## Taşikardi ve Bradikardi\n",
    "\n",
    "**Taşikardi**, kalp atışının bir dakikada 100’den fazla atması durumudur. \n",
    "\n",
    "- Nabzın hızlanması\n",
    "- Baş dönmesi\n",
    "- Nefes daralması\n",
    "- Bayılma\n",
    "- Göğüste rahatsızlık hissi\n",
    "- Baş dönmesi\n",
    "- Kalp atışlarını fazla hissetmek\n",
    "\n",
    "**Bradikardi**, düşük kalp atış hızı anlamına gelir. Hareketsiz halde oturan bir yetişkinin normal kalp atış hızı dakikada 60-100 seviyelerindedir. Bradikardi sorunundan bahsedebilmek için nabzın 60’ın altında olması gerekir. "
   ]
  },
  {
   "cell_type": "markdown",
   "metadata": {},
   "source": [
    "## Teşhis\n",
    "**Ritim holter**, kalp ritminin üç kanaldan en az 24 saat süre ile kaydedilmesi işlemidir. Bu testin en önemli avantajı, hastanın uzun bir zaman periyodu içindeki kalp ritim değişiklerini izlememizi sağlamasıdır. Böylece gün içerisinde çeşitli fiziksel ve psikolojik değişkenlerin etkisi, kullanılan bazı ilaçların kalp ritminde oluşturduğu değişimlerin izlenmesi, hastanın EKG kaydı sırasında oluşan şikayetlerin değerlendirilmesinde kullanılmaktadır."
   ]
  },
  {
   "cell_type": "code",
   "execution_count": null,
   "metadata": {},
   "outputs": [],
   "source": []
  }
 ],
 "metadata": {
  "kernelspec": {
   "display_name": "Python 3.11.0 64-bit",
   "language": "python",
   "name": "python3"
  },
  "language_info": {
   "name": "python",
   "version": "3.11.0"
  },
  "orig_nbformat": 4,
  "vscode": {
   "interpreter": {
    "hash": "35dcd5dc7485de5932685e0c787959d735105f10023a72112d583b4f868db4a5"
   }
  }
 },
 "nbformat": 4,
 "nbformat_minor": 2
}
